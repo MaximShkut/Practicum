{
 "cells": [
  {
   "cell_type": "markdown",
   "id": "ba5ab2c0",
   "metadata": {},
   "source": [
    "<font face='Liberation serif' size=3>\n",
    "    \n",
    "#### **Привет!** 👋\n",
    "\n",
    "Меня зовут Артем Пиляй. Я буду проверять твой проект. В рамках корпоративной этики мы общаемся на «ты». Но если лучше на «Вы», то нужно обозначить это сразу.\n",
    " \n",
    "В тетрадке есть комментарии к проекту, они будут в отдельных ячейках Markdown.\n",
    " \n",
    "<div class=\"alert alert-danger\">\n",
    "\n",
    "**Артём:** ❌ Такой комментарий **нужно исправить** обязательно, он критически влияет на удачное выполнение проекта.\n",
    "\n",
    "</div>\n",
    "\n",
    "<div class=\"alert alert-success\">\n",
    "\n",
    "**Артём:** 👍 Это **главный комментарий**, значит все сделано хорошо. 😉 А еще в таких комментариях бывают подсказки как сделать **твой проект ещё лучше**.\n",
    "\n",
    "</div>\n",
    "\n",
    "---\n",
    "\n",
    "**Распространенные ошибки**\n",
    "\n",
    "<div class=\"alert alert-danger\">\n",
    "\n",
    "**Артём:** ❌ Не перемещай и не удаляй мои комментарии. Лучше, чтобы твои ответы на мои комментарии шли по очереди, как сообщения в мессенджере. Это ускорит проверку.\n",
    "    \n",
    "</div>\n",
    "\n",
    "<div class=\"alert alert-danger\">\n",
    "\n",
    "**Артём:** ❌ Проверь проект на работоспособность перед отправкой на проверку. Это важный навык, который тебе пригодится как на собеседовании, при выполнении тестового задания, так и перед совещанием у руководства компании. Помни, ревьеры не вносят изменения в код, даже если это путь к датасету или ячейка в неверном формате (code/mardown).  \n",
    "    \n",
    "</div>\n",
    "\n",
    "<div class=\"alert alert-success\">\n",
    "\n",
    "**Артём:** 👍 Кстати, смотри как можно сделать, чтобы датасет грузился и локально, и в JupyterHub:\n",
    "\n",
    "```py\n",
    "try:\n",
    "    df = pd.read_csv('C:/Users/Student/Desktop/dataset.csv')\n",
    "except:\n",
    "    df = pd.read_csv('/datasets/dataset.csv')\n",
    "```\n",
    "    \n",
    "Используя эту конструкцию в будущих проектах, ты будешь спокойно отправлять проект на проверку зная, что он будет работать.\n",
    "    \n",
    "</div>\n",
    "\n",
    "<div class=\"alert alert-danger\">\n",
    "\n",
    "**Артём:** ❌ Проект должен быть структурирован. Где названия разделов и подразделов будут записаны в ячейках [Markdown](https://paulradzkov.com/2014/markdown_cheatsheet/?).\n",
    "    \n",
    "</div>\n",
    "\n",
    "<div class=\"alert alert-danger\">\n",
    "\n",
    "**Артём:** ❌ Если с твоим проектом будет знакомиться другой человек, например рекрутер или старший дата специалист, в нем должны быть описаны поставленные задачи, содержание датасета, промежуточные и финальные выводы. Как правило, заказчик читает только финальный вывод, поэтому важно добавить информацию о проведенном исследовании, применить форматирование текста, в общем, сделать красиво, чтобы было понятно, что проведено настоящее исследование и выводу можно верить. \n",
    "\n",
    "</div>  \n",
    "\n",
    "<div class=\"alert alert-success\">\n",
    "\n",
    "**Артём:** 👍 Длинный код и комментарии нужно переносить на новую строку. Согласись, коллеги не оценят, если им придется тратить время на пролистывание ячеек. Согласно международному стандарту [PEP8](https://www.python.org/dev/peps/pep-0008/) длина строки не должна превышать 79 символов.\n",
    "Вот как можно перенести код на новую строку:\n",
    "\n",
    "```py\n",
    "# Переносить можно код внутри скобки\n",
    "example = (2 *\n",
    "           2)\n",
    "```\n",
    "Конечно, я не считаю сколько символов в строке, главное, чтобы код или комментарий не ушел за пределы ячейки (зависит от разрешения экрана). Если ушел, то это желтый комментарий для каждой нечитаемой ячейки.\n",
    "    \n",
    "</div>\n",
    "\n",
    "<div class=\"alert alert-success\">\n",
    "\n",
    "**Артём:** 👍 Тимлид, старший дата специалист или ревьюер ценят твое и своё время, подсвечивай свои комментарии в ячейках Markdown. Шаблон я тебе оставил ниже. Подробнее про синтаксис Markdown, с примерами, можно почитать [здесь](https://paulradzkov.com/2014/markdown_cheatsheet/?).\n",
    "    \n",
    "</div>\n",
    "\n",
    "<div class=\"alert alert-success\">\n",
    "\n",
    "**Артём:** 👍 Буду рад, если воспользуешься моими советами. Они тебе помогут при трудоустройстве, например в [Яндексе](https://yandex.ru/jobs/pages/analytics_interview?ysclid=l84s63fs1g790141490), и при работе в команде. Если в ходе проведения исследования возникнут вопросы, не стесняйся задавай. 🙂\n",
    "</div>\n",
    "\n",
    "<div class=\"alert alert-info\">\n",
    "\n",
    "**Артём:** 🏁 [Итоги ревью здесь](#results)\n",
    "</div>\n",
    "\n",
    "\n",
    "**Поехали!** 🚀 👨‍🚀\n",
    "<a id=\"start\"></a>"
   ]
  },
  {
   "cell_type": "markdown",
   "id": "33f4257c",
   "metadata": {},
   "source": [
    "<div style=\"background-color:lavender; color:#black; text-align:left; padding:2%\">\n",
    "    \n",
    " Привет, Артем. Рад знакомству)"
   ]
  },
  {
   "cell_type": "markdown",
   "id": "66524cf4",
   "metadata": {},
   "source": [
    "<div style=\"background-color:lavender; color:#black; text-align:left; padding:2%\">\n",
    "    \n",
    "#### **Студент(ка):** ✅ Это шаблон для тебя. Твой комментарий или вопрос в такой ячейке я точнно увижу."
   ]
  },
  {
   "cell_type": "markdown",
   "id": "3a9d1676",
   "metadata": {
    "deletable": false,
    "editable": false,
    "id": "c81daeeb"
   },
   "source": [
    "# Исследование надежности заемщиков\n"
   ]
  },
  {
   "cell_type": "markdown",
   "id": "fb534344",
   "metadata": {
    "deletable": false,
    "editable": false,
    "id": "827c20bf"
   },
   "source": [
    "Во второй части проекта вы выполните шаги 3 и 4. Их вручную проверит ревьюер.\n",
    "Чтобы вам не пришлось писать код заново для шагов 1 и 2, мы добавили авторские решения в ячейки с кодом. \n",
    "\n"
   ]
  },
  {
   "cell_type": "markdown",
   "id": "ac232ea0",
   "metadata": {
    "deletable": false,
    "editable": false,
    "id": "744d7639"
   },
   "source": [
    "## Откройте таблицу и изучите общую информацию о данных"
   ]
  },
  {
   "cell_type": "markdown",
   "id": "fa2a74bc",
   "metadata": {
    "deletable": false,
    "editable": false,
    "id": "e7a14c31"
   },
   "source": [
    "**Задание 1. Импортируйте библиотеку pandas. Считайте данные из csv-файла в датафрейм и сохраните в переменную `data`. Путь к файлу:**\n",
    "\n",
    "`/datasets/data.csv`"
   ]
  },
  {
   "cell_type": "code",
   "execution_count": 1,
   "id": "baf36795",
   "metadata": {
    "deletable": false,
    "id": "7bcf75c9"
   },
   "outputs": [],
   "source": [
    "import pandas as pd\n",
    "\n",
    "try:\n",
    "    data = pd.read_csv('/datasets/data.csv')\n",
    "except:\n",
    "    data = pd.read_csv('https://code.s3.yandex.net/datasets/data.csv')"
   ]
  },
  {
   "cell_type": "markdown",
   "id": "e730cc85",
   "metadata": {
    "deletable": false,
    "editable": false,
    "id": "b8038fe3"
   },
   "source": [
    "**Задание 2. Выведите первые 20 строчек датафрейма `data` на экран.**"
   ]
  },
  {
   "cell_type": "code",
   "execution_count": 2,
   "id": "ef0070ca",
   "metadata": {
    "deletable": false,
    "id": "2a7cab99",
    "outputId": "1a8f3ef2-d323-4ec2-ddf7-89670b5944c4"
   },
   "outputs": [
    {
     "data": {
      "text/html": [
       "<div>\n",
       "<style scoped>\n",
       "    .dataframe tbody tr th:only-of-type {\n",
       "        vertical-align: middle;\n",
       "    }\n",
       "\n",
       "    .dataframe tbody tr th {\n",
       "        vertical-align: top;\n",
       "    }\n",
       "\n",
       "    .dataframe thead th {\n",
       "        text-align: right;\n",
       "    }\n",
       "</style>\n",
       "<table border=\"1\" class=\"dataframe\">\n",
       "  <thead>\n",
       "    <tr style=\"text-align: right;\">\n",
       "      <th></th>\n",
       "      <th>children</th>\n",
       "      <th>days_employed</th>\n",
       "      <th>dob_years</th>\n",
       "      <th>education</th>\n",
       "      <th>education_id</th>\n",
       "      <th>family_status</th>\n",
       "      <th>family_status_id</th>\n",
       "      <th>gender</th>\n",
       "      <th>income_type</th>\n",
       "      <th>debt</th>\n",
       "      <th>total_income</th>\n",
       "      <th>purpose</th>\n",
       "    </tr>\n",
       "  </thead>\n",
       "  <tbody>\n",
       "    <tr>\n",
       "      <th>0</th>\n",
       "      <td>1</td>\n",
       "      <td>-8437.673028</td>\n",
       "      <td>42</td>\n",
       "      <td>высшее</td>\n",
       "      <td>0</td>\n",
       "      <td>женат / замужем</td>\n",
       "      <td>0</td>\n",
       "      <td>F</td>\n",
       "      <td>сотрудник</td>\n",
       "      <td>0</td>\n",
       "      <td>253875.639453</td>\n",
       "      <td>покупка жилья</td>\n",
       "    </tr>\n",
       "    <tr>\n",
       "      <th>1</th>\n",
       "      <td>1</td>\n",
       "      <td>-4024.803754</td>\n",
       "      <td>36</td>\n",
       "      <td>среднее</td>\n",
       "      <td>1</td>\n",
       "      <td>женат / замужем</td>\n",
       "      <td>0</td>\n",
       "      <td>F</td>\n",
       "      <td>сотрудник</td>\n",
       "      <td>0</td>\n",
       "      <td>112080.014102</td>\n",
       "      <td>приобретение автомобиля</td>\n",
       "    </tr>\n",
       "    <tr>\n",
       "      <th>2</th>\n",
       "      <td>0</td>\n",
       "      <td>-5623.422610</td>\n",
       "      <td>33</td>\n",
       "      <td>Среднее</td>\n",
       "      <td>1</td>\n",
       "      <td>женат / замужем</td>\n",
       "      <td>0</td>\n",
       "      <td>M</td>\n",
       "      <td>сотрудник</td>\n",
       "      <td>0</td>\n",
       "      <td>145885.952297</td>\n",
       "      <td>покупка жилья</td>\n",
       "    </tr>\n",
       "    <tr>\n",
       "      <th>3</th>\n",
       "      <td>3</td>\n",
       "      <td>-4124.747207</td>\n",
       "      <td>32</td>\n",
       "      <td>среднее</td>\n",
       "      <td>1</td>\n",
       "      <td>женат / замужем</td>\n",
       "      <td>0</td>\n",
       "      <td>M</td>\n",
       "      <td>сотрудник</td>\n",
       "      <td>0</td>\n",
       "      <td>267628.550329</td>\n",
       "      <td>дополнительное образование</td>\n",
       "    </tr>\n",
       "    <tr>\n",
       "      <th>4</th>\n",
       "      <td>0</td>\n",
       "      <td>340266.072047</td>\n",
       "      <td>53</td>\n",
       "      <td>среднее</td>\n",
       "      <td>1</td>\n",
       "      <td>гражданский брак</td>\n",
       "      <td>1</td>\n",
       "      <td>F</td>\n",
       "      <td>пенсионер</td>\n",
       "      <td>0</td>\n",
       "      <td>158616.077870</td>\n",
       "      <td>сыграть свадьбу</td>\n",
       "    </tr>\n",
       "    <tr>\n",
       "      <th>5</th>\n",
       "      <td>0</td>\n",
       "      <td>-926.185831</td>\n",
       "      <td>27</td>\n",
       "      <td>высшее</td>\n",
       "      <td>0</td>\n",
       "      <td>гражданский брак</td>\n",
       "      <td>1</td>\n",
       "      <td>M</td>\n",
       "      <td>компаньон</td>\n",
       "      <td>0</td>\n",
       "      <td>255763.565419</td>\n",
       "      <td>покупка жилья</td>\n",
       "    </tr>\n",
       "    <tr>\n",
       "      <th>6</th>\n",
       "      <td>0</td>\n",
       "      <td>-2879.202052</td>\n",
       "      <td>43</td>\n",
       "      <td>высшее</td>\n",
       "      <td>0</td>\n",
       "      <td>женат / замужем</td>\n",
       "      <td>0</td>\n",
       "      <td>F</td>\n",
       "      <td>компаньон</td>\n",
       "      <td>0</td>\n",
       "      <td>240525.971920</td>\n",
       "      <td>операции с жильем</td>\n",
       "    </tr>\n",
       "    <tr>\n",
       "      <th>7</th>\n",
       "      <td>0</td>\n",
       "      <td>-152.779569</td>\n",
       "      <td>50</td>\n",
       "      <td>СРЕДНЕЕ</td>\n",
       "      <td>1</td>\n",
       "      <td>женат / замужем</td>\n",
       "      <td>0</td>\n",
       "      <td>M</td>\n",
       "      <td>сотрудник</td>\n",
       "      <td>0</td>\n",
       "      <td>135823.934197</td>\n",
       "      <td>образование</td>\n",
       "    </tr>\n",
       "    <tr>\n",
       "      <th>8</th>\n",
       "      <td>2</td>\n",
       "      <td>-6929.865299</td>\n",
       "      <td>35</td>\n",
       "      <td>ВЫСШЕЕ</td>\n",
       "      <td>0</td>\n",
       "      <td>гражданский брак</td>\n",
       "      <td>1</td>\n",
       "      <td>F</td>\n",
       "      <td>сотрудник</td>\n",
       "      <td>0</td>\n",
       "      <td>95856.832424</td>\n",
       "      <td>на проведение свадьбы</td>\n",
       "    </tr>\n",
       "    <tr>\n",
       "      <th>9</th>\n",
       "      <td>0</td>\n",
       "      <td>-2188.756445</td>\n",
       "      <td>41</td>\n",
       "      <td>среднее</td>\n",
       "      <td>1</td>\n",
       "      <td>женат / замужем</td>\n",
       "      <td>0</td>\n",
       "      <td>M</td>\n",
       "      <td>сотрудник</td>\n",
       "      <td>0</td>\n",
       "      <td>144425.938277</td>\n",
       "      <td>покупка жилья для семьи</td>\n",
       "    </tr>\n",
       "    <tr>\n",
       "      <th>10</th>\n",
       "      <td>2</td>\n",
       "      <td>-4171.483647</td>\n",
       "      <td>36</td>\n",
       "      <td>высшее</td>\n",
       "      <td>0</td>\n",
       "      <td>женат / замужем</td>\n",
       "      <td>0</td>\n",
       "      <td>M</td>\n",
       "      <td>компаньон</td>\n",
       "      <td>0</td>\n",
       "      <td>113943.491460</td>\n",
       "      <td>покупка недвижимости</td>\n",
       "    </tr>\n",
       "    <tr>\n",
       "      <th>11</th>\n",
       "      <td>0</td>\n",
       "      <td>-792.701887</td>\n",
       "      <td>40</td>\n",
       "      <td>среднее</td>\n",
       "      <td>1</td>\n",
       "      <td>женат / замужем</td>\n",
       "      <td>0</td>\n",
       "      <td>F</td>\n",
       "      <td>сотрудник</td>\n",
       "      <td>0</td>\n",
       "      <td>77069.234271</td>\n",
       "      <td>покупка коммерческой недвижимости</td>\n",
       "    </tr>\n",
       "    <tr>\n",
       "      <th>12</th>\n",
       "      <td>0</td>\n",
       "      <td>NaN</td>\n",
       "      <td>65</td>\n",
       "      <td>среднее</td>\n",
       "      <td>1</td>\n",
       "      <td>гражданский брак</td>\n",
       "      <td>1</td>\n",
       "      <td>M</td>\n",
       "      <td>пенсионер</td>\n",
       "      <td>0</td>\n",
       "      <td>NaN</td>\n",
       "      <td>сыграть свадьбу</td>\n",
       "    </tr>\n",
       "    <tr>\n",
       "      <th>13</th>\n",
       "      <td>0</td>\n",
       "      <td>-1846.641941</td>\n",
       "      <td>54</td>\n",
       "      <td>неоконченное высшее</td>\n",
       "      <td>2</td>\n",
       "      <td>женат / замужем</td>\n",
       "      <td>0</td>\n",
       "      <td>F</td>\n",
       "      <td>сотрудник</td>\n",
       "      <td>0</td>\n",
       "      <td>130458.228857</td>\n",
       "      <td>приобретение автомобиля</td>\n",
       "    </tr>\n",
       "    <tr>\n",
       "      <th>14</th>\n",
       "      <td>0</td>\n",
       "      <td>-1844.956182</td>\n",
       "      <td>56</td>\n",
       "      <td>высшее</td>\n",
       "      <td>0</td>\n",
       "      <td>гражданский брак</td>\n",
       "      <td>1</td>\n",
       "      <td>F</td>\n",
       "      <td>компаньон</td>\n",
       "      <td>1</td>\n",
       "      <td>165127.911772</td>\n",
       "      <td>покупка жилой недвижимости</td>\n",
       "    </tr>\n",
       "    <tr>\n",
       "      <th>15</th>\n",
       "      <td>1</td>\n",
       "      <td>-972.364419</td>\n",
       "      <td>26</td>\n",
       "      <td>среднее</td>\n",
       "      <td>1</td>\n",
       "      <td>женат / замужем</td>\n",
       "      <td>0</td>\n",
       "      <td>F</td>\n",
       "      <td>сотрудник</td>\n",
       "      <td>0</td>\n",
       "      <td>116820.904450</td>\n",
       "      <td>строительство собственной недвижимости</td>\n",
       "    </tr>\n",
       "    <tr>\n",
       "      <th>16</th>\n",
       "      <td>0</td>\n",
       "      <td>-1719.934226</td>\n",
       "      <td>35</td>\n",
       "      <td>среднее</td>\n",
       "      <td>1</td>\n",
       "      <td>женат / замужем</td>\n",
       "      <td>0</td>\n",
       "      <td>F</td>\n",
       "      <td>сотрудник</td>\n",
       "      <td>0</td>\n",
       "      <td>289202.704229</td>\n",
       "      <td>недвижимость</td>\n",
       "    </tr>\n",
       "    <tr>\n",
       "      <th>17</th>\n",
       "      <td>0</td>\n",
       "      <td>-2369.999720</td>\n",
       "      <td>33</td>\n",
       "      <td>высшее</td>\n",
       "      <td>0</td>\n",
       "      <td>гражданский брак</td>\n",
       "      <td>1</td>\n",
       "      <td>M</td>\n",
       "      <td>сотрудник</td>\n",
       "      <td>0</td>\n",
       "      <td>90410.586745</td>\n",
       "      <td>строительство недвижимости</td>\n",
       "    </tr>\n",
       "    <tr>\n",
       "      <th>18</th>\n",
       "      <td>0</td>\n",
       "      <td>400281.136913</td>\n",
       "      <td>53</td>\n",
       "      <td>среднее</td>\n",
       "      <td>1</td>\n",
       "      <td>вдовец / вдова</td>\n",
       "      <td>2</td>\n",
       "      <td>F</td>\n",
       "      <td>пенсионер</td>\n",
       "      <td>0</td>\n",
       "      <td>56823.777243</td>\n",
       "      <td>на покупку подержанного автомобиля</td>\n",
       "    </tr>\n",
       "    <tr>\n",
       "      <th>19</th>\n",
       "      <td>0</td>\n",
       "      <td>-10038.818549</td>\n",
       "      <td>48</td>\n",
       "      <td>СРЕДНЕЕ</td>\n",
       "      <td>1</td>\n",
       "      <td>в разводе</td>\n",
       "      <td>3</td>\n",
       "      <td>F</td>\n",
       "      <td>сотрудник</td>\n",
       "      <td>0</td>\n",
       "      <td>242831.107982</td>\n",
       "      <td>на покупку своего автомобиля</td>\n",
       "    </tr>\n",
       "  </tbody>\n",
       "</table>\n",
       "</div>"
      ],
      "text/plain": [
       "    children  days_employed  dob_years            education  education_id  \\\n",
       "0          1   -8437.673028         42               высшее             0   \n",
       "1          1   -4024.803754         36              среднее             1   \n",
       "2          0   -5623.422610         33              Среднее             1   \n",
       "3          3   -4124.747207         32              среднее             1   \n",
       "4          0  340266.072047         53              среднее             1   \n",
       "5          0    -926.185831         27               высшее             0   \n",
       "6          0   -2879.202052         43               высшее             0   \n",
       "7          0    -152.779569         50              СРЕДНЕЕ             1   \n",
       "8          2   -6929.865299         35               ВЫСШЕЕ             0   \n",
       "9          0   -2188.756445         41              среднее             1   \n",
       "10         2   -4171.483647         36               высшее             0   \n",
       "11         0    -792.701887         40              среднее             1   \n",
       "12         0            NaN         65              среднее             1   \n",
       "13         0   -1846.641941         54  неоконченное высшее             2   \n",
       "14         0   -1844.956182         56               высшее             0   \n",
       "15         1    -972.364419         26              среднее             1   \n",
       "16         0   -1719.934226         35              среднее             1   \n",
       "17         0   -2369.999720         33               высшее             0   \n",
       "18         0  400281.136913         53              среднее             1   \n",
       "19         0  -10038.818549         48              СРЕДНЕЕ             1   \n",
       "\n",
       "       family_status  family_status_id gender income_type  debt  \\\n",
       "0    женат / замужем                 0      F   сотрудник     0   \n",
       "1    женат / замужем                 0      F   сотрудник     0   \n",
       "2    женат / замужем                 0      M   сотрудник     0   \n",
       "3    женат / замужем                 0      M   сотрудник     0   \n",
       "4   гражданский брак                 1      F   пенсионер     0   \n",
       "5   гражданский брак                 1      M   компаньон     0   \n",
       "6    женат / замужем                 0      F   компаньон     0   \n",
       "7    женат / замужем                 0      M   сотрудник     0   \n",
       "8   гражданский брак                 1      F   сотрудник     0   \n",
       "9    женат / замужем                 0      M   сотрудник     0   \n",
       "10   женат / замужем                 0      M   компаньон     0   \n",
       "11   женат / замужем                 0      F   сотрудник     0   \n",
       "12  гражданский брак                 1      M   пенсионер     0   \n",
       "13   женат / замужем                 0      F   сотрудник     0   \n",
       "14  гражданский брак                 1      F   компаньон     1   \n",
       "15   женат / замужем                 0      F   сотрудник     0   \n",
       "16   женат / замужем                 0      F   сотрудник     0   \n",
       "17  гражданский брак                 1      M   сотрудник     0   \n",
       "18    вдовец / вдова                 2      F   пенсионер     0   \n",
       "19         в разводе                 3      F   сотрудник     0   \n",
       "\n",
       "     total_income                                 purpose  \n",
       "0   253875.639453                           покупка жилья  \n",
       "1   112080.014102                 приобретение автомобиля  \n",
       "2   145885.952297                           покупка жилья  \n",
       "3   267628.550329              дополнительное образование  \n",
       "4   158616.077870                         сыграть свадьбу  \n",
       "5   255763.565419                           покупка жилья  \n",
       "6   240525.971920                       операции с жильем  \n",
       "7   135823.934197                             образование  \n",
       "8    95856.832424                   на проведение свадьбы  \n",
       "9   144425.938277                 покупка жилья для семьи  \n",
       "10  113943.491460                    покупка недвижимости  \n",
       "11   77069.234271       покупка коммерческой недвижимости  \n",
       "12            NaN                         сыграть свадьбу  \n",
       "13  130458.228857                 приобретение автомобиля  \n",
       "14  165127.911772              покупка жилой недвижимости  \n",
       "15  116820.904450  строительство собственной недвижимости  \n",
       "16  289202.704229                            недвижимость  \n",
       "17   90410.586745              строительство недвижимости  \n",
       "18   56823.777243      на покупку подержанного автомобиля  \n",
       "19  242831.107982            на покупку своего автомобиля  "
      ]
     },
     "execution_count": 2,
     "metadata": {},
     "output_type": "execute_result"
    }
   ],
   "source": [
    "data.head(20)"
   ]
  },
  {
   "cell_type": "markdown",
   "id": "fb528964",
   "metadata": {
    "deletable": false,
    "editable": false,
    "id": "1c12e233"
   },
   "source": [
    "**Задание 3. Выведите основную информацию о датафрейме с помощью метода `info()`.**"
   ]
  },
  {
   "cell_type": "code",
   "execution_count": 3,
   "id": "d6b47eb8",
   "metadata": {
    "deletable": false,
    "id": "2b757bca",
    "outputId": "15376089-8dad-46c9-b520-c05248d43158"
   },
   "outputs": [
    {
     "name": "stdout",
     "output_type": "stream",
     "text": [
      "<class 'pandas.core.frame.DataFrame'>\n",
      "RangeIndex: 21525 entries, 0 to 21524\n",
      "Data columns (total 12 columns):\n",
      " #   Column            Non-Null Count  Dtype  \n",
      "---  ------            --------------  -----  \n",
      " 0   children          21525 non-null  int64  \n",
      " 1   days_employed     19351 non-null  float64\n",
      " 2   dob_years         21525 non-null  int64  \n",
      " 3   education         21525 non-null  object \n",
      " 4   education_id      21525 non-null  int64  \n",
      " 5   family_status     21525 non-null  object \n",
      " 6   family_status_id  21525 non-null  int64  \n",
      " 7   gender            21525 non-null  object \n",
      " 8   income_type       21525 non-null  object \n",
      " 9   debt              21525 non-null  int64  \n",
      " 10  total_income      19351 non-null  float64\n",
      " 11  purpose           21525 non-null  object \n",
      "dtypes: float64(2), int64(5), object(5)\n",
      "memory usage: 2.0+ MB\n"
     ]
    }
   ],
   "source": [
    "data.info()"
   ]
  },
  {
   "cell_type": "markdown",
   "id": "645b9ea6",
   "metadata": {
    "deletable": false,
    "editable": false,
    "id": "333ec665"
   },
   "source": [
    "## Предобработка данных"
   ]
  },
  {
   "cell_type": "markdown",
   "id": "a21aeba7",
   "metadata": {
    "deletable": false,
    "editable": false,
    "id": "02d92d53"
   },
   "source": [
    "### Удаление пропусков"
   ]
  },
  {
   "cell_type": "markdown",
   "id": "2262975b",
   "metadata": {
    "deletable": false,
    "editable": false,
    "id": "cd84967c"
   },
   "source": [
    "**Задание 4. Выведите количество пропущенных значений для каждого столбца. Используйте комбинацию двух методов.**"
   ]
  },
  {
   "cell_type": "code",
   "execution_count": 4,
   "id": "ab250c80",
   "metadata": {
    "deletable": false,
    "id": "7f9b2309",
    "outputId": "81f4d817-781c-465c-ed15-91ce4446810d"
   },
   "outputs": [
    {
     "data": {
      "text/plain": [
       "children               0\n",
       "days_employed       2174\n",
       "dob_years              0\n",
       "education              0\n",
       "education_id           0\n",
       "family_status          0\n",
       "family_status_id       0\n",
       "gender                 0\n",
       "income_type            0\n",
       "debt                   0\n",
       "total_income        2174\n",
       "purpose                0\n",
       "dtype: int64"
      ]
     },
     "execution_count": 4,
     "metadata": {},
     "output_type": "execute_result"
    }
   ],
   "source": [
    "data.isna().sum()"
   ]
  },
  {
   "cell_type": "markdown",
   "id": "fac9e09f",
   "metadata": {
    "deletable": false,
    "editable": false,
    "id": "db86e27b"
   },
   "source": [
    "**Задание 5. В двух столбцах есть пропущенные значения. Один из них — `days_employed`. Пропуски в этом столбце вы обработаете на следующем этапе. Другой столбец с пропущенными значениями — `total_income` — хранит данные о доходах. На сумму дохода сильнее всего влияет тип занятости, поэтому заполнить пропуски в этом столбце нужно медианным значением по каждому типу из столбца `income_type`. Например, у человека с типом занятости `сотрудник` пропуск в столбце `total_income` должен быть заполнен медианным доходом среди всех записей с тем же типом.**"
   ]
  },
  {
   "cell_type": "code",
   "execution_count": 5,
   "id": "fb857147",
   "metadata": {
    "deletable": false,
    "id": "42006a93"
   },
   "outputs": [],
   "source": [
    "for t in data['income_type'].unique():\n",
    "    data.loc[(data['income_type'] == t) & (data['total_income'].isna()), 'total_income'] = \\\n",
    "    data.loc[(data['income_type'] == t), 'total_income'].median()"
   ]
  },
  {
   "cell_type": "markdown",
   "id": "51825dad",
   "metadata": {
    "deletable": false,
    "editable": false,
    "id": "89da5ece"
   },
   "source": [
    "### Обработка аномальных значений"
   ]
  },
  {
   "cell_type": "markdown",
   "id": "79e90cc9",
   "metadata": {
    "deletable": false,
    "editable": false,
    "id": "57964554"
   },
   "source": [
    "**Задание 6. В данных могут встречаться артефакты (аномалии) — значения, которые не отражают действительность и появились по какой-то ошибке. таким артефактом будет отрицательное количество дней трудового стажа в столбце `days_employed`. Для реальных данных это нормально. Обработайте значения в этом столбце: замените все отрицательные значения положительными с помощью метода `abs()`.**"
   ]
  },
  {
   "cell_type": "code",
   "execution_count": 6,
   "id": "3fe2f863",
   "metadata": {
    "deletable": false,
    "id": "f6f055bf"
   },
   "outputs": [],
   "source": [
    "data['days_employed'] = data['days_employed'].abs()"
   ]
  },
  {
   "cell_type": "markdown",
   "id": "9d6e5eaf",
   "metadata": {
    "deletable": false,
    "editable": false,
    "id": "6107dd2f"
   },
   "source": [
    "**Задание 7. Для каждого типа занятости выведите медианное значение трудового стажа `days_employed` в днях.**"
   ]
  },
  {
   "cell_type": "code",
   "execution_count": 7,
   "id": "3d7159c8",
   "metadata": {
    "deletable": false,
    "id": "85a5faf6",
    "outputId": "801ef80e-522b-4668-f34e-565af7432bcf"
   },
   "outputs": [
    {
     "data": {
      "text/plain": [
       "income_type\n",
       "безработный        366413.652744\n",
       "в декрете            3296.759962\n",
       "госслужащий          2689.368353\n",
       "компаньон            1547.382223\n",
       "пенсионер          365213.306266\n",
       "предприниматель       520.848083\n",
       "сотрудник            1574.202821\n",
       "студент               578.751554\n",
       "Name: days_employed, dtype: float64"
      ]
     },
     "execution_count": 7,
     "metadata": {},
     "output_type": "execute_result"
    }
   ],
   "source": [
    "data.groupby('income_type')['days_employed'].agg('median')"
   ]
  },
  {
   "cell_type": "markdown",
   "id": "ef30f0d0",
   "metadata": {
    "deletable": false,
    "editable": false,
    "id": "38d1a030"
   },
   "source": [
    "У двух типов (безработные и пенсионеры) получатся аномально большие значения. Исправить такие значения сложно, поэтому оставьте их как есть. Тем более этот столбец не понадобится вам для исследования."
   ]
  },
  {
   "cell_type": "markdown",
   "id": "8413af31",
   "metadata": {
    "deletable": false,
    "editable": false,
    "id": "d8a9f147"
   },
   "source": [
    "**Задание 8. Выведите перечень уникальных значений столбца `children`.**"
   ]
  },
  {
   "cell_type": "code",
   "execution_count": 8,
   "id": "fe312338",
   "metadata": {
    "deletable": false,
    "id": "ef5056eb",
    "outputId": "6975b15c-7f95-4697-d16d-a0c79b657b03"
   },
   "outputs": [
    {
     "data": {
      "text/plain": [
       "array([ 1,  0,  3,  2, -1,  4, 20,  5])"
      ]
     },
     "execution_count": 8,
     "metadata": {},
     "output_type": "execute_result"
    }
   ],
   "source": [
    "data['children'].unique()"
   ]
  },
  {
   "cell_type": "markdown",
   "id": "1798e8fa",
   "metadata": {
    "deletable": false,
    "editable": false,
    "id": "40b9ebf2"
   },
   "source": [
    "**Задание 9. В столбце `children` есть два аномальных значения. Удалите строки, в которых встречаются такие аномальные значения из датафрейма `data`.**"
   ]
  },
  {
   "cell_type": "code",
   "execution_count": 9,
   "id": "9fd20a45",
   "metadata": {
    "deletable": false,
    "id": "3ff9801d"
   },
   "outputs": [],
   "source": [
    "data = data[(data['children'] != -1) & (data['children'] != 20)]"
   ]
  },
  {
   "cell_type": "markdown",
   "id": "3396b6aa",
   "metadata": {
    "deletable": false,
    "editable": false,
    "id": "bbc4d0ce"
   },
   "source": [
    "**Задание 10. Ещё раз выведите перечень уникальных значений столбца `children`, чтобы убедиться, что артефакты удалены.**"
   ]
  },
  {
   "cell_type": "code",
   "execution_count": 10,
   "id": "3f07de83",
   "metadata": {
    "deletable": false,
    "id": "ad4fa8b7",
    "outputId": "b2097101-d49d-44d9-901b-32a65c9463d1"
   },
   "outputs": [
    {
     "data": {
      "text/plain": [
       "array([1, 0, 3, 2, 4, 5])"
      ]
     },
     "execution_count": 10,
     "metadata": {},
     "output_type": "execute_result"
    }
   ],
   "source": [
    "data['children'].unique()"
   ]
  },
  {
   "cell_type": "markdown",
   "id": "9c4afbe1",
   "metadata": {
    "deletable": false,
    "editable": false,
    "id": "75440b63"
   },
   "source": [
    "### Удаление пропусков (продолжение)"
   ]
  },
  {
   "cell_type": "markdown",
   "id": "fd6abbae",
   "metadata": {
    "deletable": false,
    "editable": false,
    "id": "f4ea573f"
   },
   "source": [
    "**Задание 11. Заполните пропуски в столбце `days_employed` медианными значениями по каждого типа занятости `income_type`.**"
   ]
  },
  {
   "cell_type": "code",
   "execution_count": 11,
   "id": "82276e96",
   "metadata": {
    "deletable": false,
    "id": "af6b1a7e"
   },
   "outputs": [],
   "source": [
    "for t in data['income_type'].unique():\n",
    "    data.loc[(data['income_type'] == t) & (data['days_employed'].isna()), 'days_employed'] = \\\n",
    "    data.loc[(data['income_type'] == t), 'days_employed'].median()"
   ]
  },
  {
   "cell_type": "markdown",
   "id": "974e3033",
   "metadata": {
    "deletable": false,
    "editable": false,
    "id": "2753f40d"
   },
   "source": [
    "**Задание 12. Убедитесь, что все пропуски заполнены. Проверьте себя и ещё раз выведите количество пропущенных значений для каждого столбца с помощью двух методов.**"
   ]
  },
  {
   "cell_type": "code",
   "execution_count": 12,
   "id": "47fe5087",
   "metadata": {
    "deletable": false,
    "id": "55f78bc2",
    "outputId": "8da1e4e1-358e-4e87-98c9-f261bce0a7b2"
   },
   "outputs": [
    {
     "data": {
      "text/plain": [
       "children            0\n",
       "days_employed       0\n",
       "dob_years           0\n",
       "education           0\n",
       "education_id        0\n",
       "family_status       0\n",
       "family_status_id    0\n",
       "gender              0\n",
       "income_type         0\n",
       "debt                0\n",
       "total_income        0\n",
       "purpose             0\n",
       "dtype: int64"
      ]
     },
     "execution_count": 12,
     "metadata": {},
     "output_type": "execute_result"
    }
   ],
   "source": [
    "data.isna().sum()"
   ]
  },
  {
   "cell_type": "markdown",
   "id": "5958d62b",
   "metadata": {
    "deletable": false,
    "editable": false,
    "id": "ddc81e43"
   },
   "source": [
    "### Изменение типов данных"
   ]
  },
  {
   "cell_type": "markdown",
   "id": "d4d0f079",
   "metadata": {
    "deletable": false,
    "editable": false,
    "id": "42d19d24"
   },
   "source": [
    "**Задание 13. Замените вещественный тип данных в столбце `total_income` на целочисленный с помощью метода `astype()`.**"
   ]
  },
  {
   "cell_type": "code",
   "execution_count": 13,
   "id": "ef31d9d5",
   "metadata": {
    "deletable": false,
    "id": "920b65ad"
   },
   "outputs": [],
   "source": [
    "data['total_income'] = data['total_income'].astype(int)"
   ]
  },
  {
   "cell_type": "markdown",
   "id": "36802b40",
   "metadata": {
    "deletable": false,
    "editable": false,
    "id": "80c420ba"
   },
   "source": [
    "### Обработка дубликатов"
   ]
  },
  {
   "cell_type": "markdown",
   "id": "58e224a0",
   "metadata": {
    "deletable": false,
    "editable": false
   },
   "source": [
    "**Задание 14. Обработайте неявные дубликаты в столбце `education`. В этом столбце есть одни и те же значения, но записанные по-разному: с использованием заглавных и строчных букв. Приведите их к нижнему регистру. Проверьте остальные столбцы.**"
   ]
  },
  {
   "cell_type": "code",
   "execution_count": 14,
   "id": "e45f1560",
   "metadata": {
    "deletable": false
   },
   "outputs": [],
   "source": [
    "data['education'] = data['education'].str.lower()"
   ]
  },
  {
   "cell_type": "markdown",
   "id": "2cb77f76",
   "metadata": {
    "deletable": false,
    "editable": false,
    "id": "dc587695"
   },
   "source": [
    "**Задание 15. Выведите на экран количество строк-дубликатов в данных. Если такие строки присутствуют, удалите их.**"
   ]
  },
  {
   "cell_type": "code",
   "execution_count": 15,
   "id": "2556e9d5",
   "metadata": {
    "deletable": false,
    "id": "3ee445e4",
    "outputId": "9684deba-1934-42d1-99e1-cda61740f822"
   },
   "outputs": [
    {
     "data": {
      "text/plain": [
       "71"
      ]
     },
     "execution_count": 15,
     "metadata": {},
     "output_type": "execute_result"
    }
   ],
   "source": [
    "data.duplicated().sum()"
   ]
  },
  {
   "cell_type": "code",
   "execution_count": 16,
   "id": "c1b9fbe9",
   "metadata": {
    "deletable": false,
    "id": "8575fe05"
   },
   "outputs": [],
   "source": [
    "data = data.drop_duplicates()"
   ]
  },
  {
   "cell_type": "markdown",
   "id": "a7cbc29f",
   "metadata": {
    "deletable": false,
    "editable": false,
    "id": "9904cf55"
   },
   "source": [
    "### Категоризация данных"
   ]
  },
  {
   "cell_type": "markdown",
   "id": "593ad073",
   "metadata": {
    "deletable": false,
    "editable": false,
    "id": "72fcc8a2"
   },
   "source": [
    "**Задание 16. На основании диапазонов, указанных ниже, создайте в датафрейме `data` столбец `total_income_category` с категориями:**\n",
    "\n",
    "- 0–30000 — `'E'`;\n",
    "- 30001–50000 — `'D'`;\n",
    "- 50001–200000 — `'C'`;\n",
    "- 200001–1000000 — `'B'`;\n",
    "- 1000001 и выше — `'A'`.\n",
    "\n",
    "\n",
    "**Например, кредитополучателю с доходом 25000 нужно назначить категорию `'E'`, а клиенту, получающему 235000, — `'B'`. Используйте собственную функцию с именем `categorize_income()` и метод `apply()`.**"
   ]
  },
  {
   "cell_type": "code",
   "execution_count": 17,
   "id": "2dc71846",
   "metadata": {
    "deletable": false,
    "id": "e1771346"
   },
   "outputs": [],
   "source": [
    "def categorize_income(income):\n",
    "    try:\n",
    "        if 0 <= income <= 30000:\n",
    "            return 'E'\n",
    "        elif 30001 <= income <= 50000:\n",
    "            return 'D'\n",
    "        elif 50001 <= income <= 200000:\n",
    "            return 'C'\n",
    "        elif 200001 <= income <= 1000000:\n",
    "            return 'B'\n",
    "        elif income >= 1000001:\n",
    "            return 'A'\n",
    "    except:\n",
    "        pass"
   ]
  },
  {
   "cell_type": "code",
   "execution_count": 18,
   "id": "b04824de",
   "metadata": {
    "deletable": false,
    "id": "d5f3586d"
   },
   "outputs": [],
   "source": [
    "data['total_income_category'] = data['total_income'].apply(categorize_income)"
   ]
  },
  {
   "cell_type": "markdown",
   "id": "c2850286",
   "metadata": {
    "deletable": false,
    "editable": false,
    "id": "dde49b5c"
   },
   "source": [
    "**Задание 17. Выведите на экран перечень уникальных целей взятия кредита из столбца `purpose`.**"
   ]
  },
  {
   "cell_type": "code",
   "execution_count": 19,
   "id": "d75f6e7a",
   "metadata": {
    "deletable": false,
    "id": "f67ce9b3",
    "outputId": "673c12d9-7d7e-4ae0-9812-c622c89dd244"
   },
   "outputs": [
    {
     "data": {
      "text/plain": [
       "array(['покупка жилья', 'приобретение автомобиля',\n",
       "       'дополнительное образование', 'сыграть свадьбу',\n",
       "       'операции с жильем', 'образование', 'на проведение свадьбы',\n",
       "       'покупка жилья для семьи', 'покупка недвижимости',\n",
       "       'покупка коммерческой недвижимости', 'покупка жилой недвижимости',\n",
       "       'строительство собственной недвижимости', 'недвижимость',\n",
       "       'строительство недвижимости', 'на покупку подержанного автомобиля',\n",
       "       'на покупку своего автомобиля',\n",
       "       'операции с коммерческой недвижимостью',\n",
       "       'строительство жилой недвижимости', 'жилье',\n",
       "       'операции со своей недвижимостью', 'автомобили',\n",
       "       'заняться образованием', 'сделка с подержанным автомобилем',\n",
       "       'получение образования', 'автомобиль', 'свадьба',\n",
       "       'получение дополнительного образования', 'покупка своего жилья',\n",
       "       'операции с недвижимостью', 'получение высшего образования',\n",
       "       'свой автомобиль', 'сделка с автомобилем',\n",
       "       'профильное образование', 'высшее образование',\n",
       "       'покупка жилья для сдачи', 'на покупку автомобиля', 'ремонт жилью',\n",
       "       'заняться высшим образованием'], dtype=object)"
      ]
     },
     "execution_count": 19,
     "metadata": {},
     "output_type": "execute_result"
    }
   ],
   "source": [
    "data['purpose'].unique()"
   ]
  },
  {
   "cell_type": "markdown",
   "id": "e578c30b",
   "metadata": {
    "deletable": false,
    "editable": false,
    "id": "85d0aef0"
   },
   "source": [
    "**Задание 18. Создайте функцию, которая на основании данных из столбца `purpose` сформирует новый столбец `purpose_category`, в который войдут следующие категории:**\n",
    "\n",
    "- `'операции с автомобилем'`,\n",
    "- `'операции с недвижимостью'`,\n",
    "- `'проведение свадьбы'`,\n",
    "- `'получение образования'`.\n",
    "\n",
    "**Например, если в столбце `purpose` находится подстрока `'на покупку автомобиля'`, то в столбце `purpose_category` должна появиться строка `'операции с автомобилем'`.**\n",
    "\n",
    "**Используйте собственную функцию с именем `categorize_purpose()` и метод `apply()`. Изучите данные в столбце `purpose` и определите, какие подстроки помогут вам правильно определить категорию.**"
   ]
  },
  {
   "cell_type": "code",
   "execution_count": 20,
   "id": "4a1de358",
   "metadata": {
    "deletable": false,
    "id": "e149fab4"
   },
   "outputs": [],
   "source": [
    "def categorize_purpose(row):\n",
    "    try:\n",
    "        if 'автом' in row:\n",
    "            return 'операции с автомобилем'\n",
    "        elif 'жил' in row or 'недвиж' in row:\n",
    "            return 'операции с недвижимостью'\n",
    "        elif 'свад' in row:\n",
    "            return 'проведение свадьбы'\n",
    "        elif 'образов' in row:\n",
    "            return 'получение образования'\n",
    "    except:\n",
    "        return 'нет категории'"
   ]
  },
  {
   "cell_type": "code",
   "execution_count": 21,
   "id": "2b21d839",
   "metadata": {
    "deletable": false,
    "id": "bf36e69b"
   },
   "outputs": [],
   "source": [
    "data['purpose_category'] = data['purpose'].apply(categorize_purpose)"
   ]
  },
  {
   "cell_type": "markdown",
   "id": "0c07510a",
   "metadata": {
    "deletable": false,
    "editable": false,
    "id": "09b242bf"
   },
   "source": [
    "### Шаг 3. Исследуйте данные и ответьте на вопросы"
   ]
  },
  {
   "cell_type": "markdown",
   "id": "ef03412a",
   "metadata": {
    "deletable": false,
    "editable": false,
    "id": "c5d66278"
   },
   "source": [
    "#### 3.1 Есть ли зависимость между количеством детей и возвратом кредита в срок?"
   ]
  },
  {
   "cell_type": "code",
   "execution_count": 22,
   "id": "566780b5",
   "metadata": {
    "deletable": false,
    "id": "2cacfc4a"
   },
   "outputs": [
    {
     "data": {
      "text/plain": [
       "children\n",
       "0    0.075438\n",
       "1    0.092346\n",
       "2    0.094542\n",
       "3    0.081818\n",
       "4    0.097561\n",
       "5    0.000000\n",
       "Name: debt, dtype: float64"
      ]
     },
     "execution_count": 22,
     "metadata": {},
     "output_type": "execute_result"
    }
   ],
   "source": [
    "data.groupby('children')['debt'].mean()"
   ]
  },
  {
   "cell_type": "markdown",
   "id": "eec8916b",
   "metadata": {},
   "source": [
    "<div class=\"alert alert-success\">\n",
    "\n",
    "**Артём:** 👍 Молодец, что смотришь доли.\n",
    "\n",
    "</div>\n",
    "\n",
    "<div class=\"alert alert-success\">\n",
    "\n",
    "**Артём:**  Но в этом проекте важно отточить навык создания сводных таблиц.\n",
    "\n",
    "Сделай сводную таблицу методом `pivot_table или groupby` `здесь и далее` в которой буду следующая информация:\n",
    "        \n",
    "1. Название категории;\n",
    "2. Количество клиентов в категории;\n",
    "3. Доля задолженности в категории.\n",
    "    \n",
    "**Это важно сделать здесь и далее.** Подробнее можно почитать [здесь](https://dfedorov.spb.ru/pandas/Подробное%20руководство%20по%20группировке%20и%20агрегированию%20с%20помощью%20pandas.html?ysclid=lcmm6rtg2w602526506)    \n",
    "    \n",
    "Высшем пилотажем будет если проценты сразу выведешь в правильном формате, то есть умножишь на сто.\n",
    "    \n",
    "</div>"
   ]
  },
  {
   "cell_type": "markdown",
   "id": "2fae99f5",
   "metadata": {
    "deletable": false,
    "id": "3a6b99ec"
   },
   "source": [
    "**Вывод:** Можно сделать вывод, что семьи без детей более ответственно подходят к выплате кредита. В принципе это логично, так как меньше затрат. Далее идут с 3-мя детьми, возможно, более ответственно подходят к дальнейшим кредитам на тех детей, чем с 1-им и 2-мя детьми."
   ]
  },
  {
   "cell_type": "markdown",
   "id": "98de0991",
   "metadata": {},
   "source": [
    "<div class=\"alert alert-success\">\n",
    "\n",
    "**Артём:** 👍  Выборки с тремя и более детьми нерепрезентативны, слишком мало значений, в сумме менее 2%. \n",
    "    \n",
    "Данных по этим категориям недостаточно для анализа. Их можно категоризировать так, чтобы многодетная категория стала репрезентативной, то есть достаточно крупной для анализа.\n",
    "\n",
    "</div>"
   ]
  },
  {
   "cell_type": "markdown",
   "id": "719e8fbd",
   "metadata": {},
   "source": [
    "<div style=\"background-color:lavender; color:#black; text-align:left; padding:2%\">\n",
    "    \n",
    "Понял категории, думаю можно объединить двумя способами. Первый: объединить с 3-мя и больше детьми, так как от 3-х детей считается многодетной семья. Второй: объединить начиная с 2-х детей и более, так как все таки 2 ребенка, тоже можно считать как \"многодетная\" и с учетом того, что с тремя и более в сумме менее 2%. Сделаю два варианта, чтобы лучше проанализировать."
   ]
  },
  {
   "cell_type": "markdown",
   "id": "ab66f559",
   "metadata": {},
   "source": [
    "<div class=\"alert alert-success\">\n",
    "\n",
    "#### **Артём:** 👍 Первый вариант ничего не меняет. Дело в том, что выборка 3+ нерепрезентативна, значений меньше 2% от всей.\n",
    "    \n",
    "Корректнее  сделать 0, 1, 2+ или 0 и 1, чтобы проследить тренд. Так что второй вариант ok.\n",
    "\n",
    "</div>"
   ]
  },
  {
   "cell_type": "markdown",
   "id": "370e3049",
   "metadata": {},
   "source": [
    "<div style=\"background-color:lavender; color:#black; text-align:left; padding:2%\">\n",
    "Посмотрим на первый вариант с объединением 3-5 детей."
   ]
  },
  {
   "cell_type": "code",
   "execution_count": 23,
   "id": "547ec9f1",
   "metadata": {},
   "outputs": [
    {
     "data": {
      "text/html": [
       "<div>\n",
       "<style scoped>\n",
       "    .dataframe tbody tr th:only-of-type {\n",
       "        vertical-align: middle;\n",
       "    }\n",
       "\n",
       "    .dataframe tbody tr th {\n",
       "        vertical-align: top;\n",
       "    }\n",
       "\n",
       "    .dataframe thead th {\n",
       "        text-align: right;\n",
       "    }\n",
       "</style>\n",
       "<table border=\"1\" class=\"dataframe\">\n",
       "  <thead>\n",
       "    <tr style=\"text-align: right;\">\n",
       "      <th></th>\n",
       "      <th>Количество детей</th>\n",
       "      <th>Количество клиентов</th>\n",
       "      <th>Доля задолженности (%)</th>\n",
       "    </tr>\n",
       "  </thead>\n",
       "  <tbody>\n",
       "    <tr>\n",
       "      <th>0</th>\n",
       "      <td>0</td>\n",
       "      <td>14091</td>\n",
       "      <td>7.54</td>\n",
       "    </tr>\n",
       "    <tr>\n",
       "      <th>1</th>\n",
       "      <td>1</td>\n",
       "      <td>4808</td>\n",
       "      <td>9.23</td>\n",
       "    </tr>\n",
       "    <tr>\n",
       "      <th>2</th>\n",
       "      <td>2</td>\n",
       "      <td>2052</td>\n",
       "      <td>9.45</td>\n",
       "    </tr>\n",
       "    <tr>\n",
       "      <th>3</th>\n",
       "      <td>3-5</td>\n",
       "      <td>380</td>\n",
       "      <td>8.16</td>\n",
       "    </tr>\n",
       "  </tbody>\n",
       "</table>\n",
       "</div>"
      ],
      "text/plain": [
       "  Количество детей  Количество клиентов  Доля задолженности (%)\n",
       "0                0                14091                    7.54\n",
       "1                1                 4808                    9.23\n",
       "2                2                 2052                    9.45\n",
       "3              3-5                  380                    8.16"
      ]
     },
     "execution_count": 23,
     "metadata": {},
     "output_type": "execute_result"
    }
   ],
   "source": [
    "data['children_category'] = pd.cut(\n",
    "    data['children'], \n",
    "    bins=[-1, 0, 1, 2, 5],  \n",
    "    labels=['0', '1', '2', '3-5']  \n",
    ")\n",
    "\n",
    "pivot_data = data.groupby('children_category').agg(\n",
    "    total_clients=('debt', 'count'),\n",
    "    debt_ratio=('debt', 'mean')\n",
    ").reset_index()\n",
    "\n",
    "pivot_data['debt_ratio'] = (pivot_data['debt_ratio'] * 100).round(2)\n",
    "\n",
    "pivot_data.rename(columns={\n",
    "    'children_category': 'Количество детей',\n",
    "    'total_clients': 'Количество клиентов',\n",
    "    'debt_ratio': 'Доля задолженности (%)'\n",
    "}, inplace=True)\n",
    "\n",
    "pivot_data"
   ]
  },
  {
   "cell_type": "markdown",
   "id": "aa524184",
   "metadata": {},
   "source": [
    "<div style=\"background-color:lavender; color:#black; text-align:left; padding:2%\">\n",
    "    \n",
    "**Вывод:** Семьи без детей ответственно подходят к выплате кредита. Начиная от 1-го ребенка и далее процент задолженности растет, но категория с 3-5 процент меньше, так как их группа мала по сравнению с остальными. Думаю лучше все же объединить начиная со 2-го ребенка.\n",
    "    "
   ]
  },
  {
   "cell_type": "markdown",
   "id": "bdc8fe3a",
   "metadata": {},
   "source": [
    "<div style=\"background-color:lavender; color:#black; text-align:left; padding:2%\">\n",
    "Второй вариант с объединением 2-5 детей."
   ]
  },
  {
   "cell_type": "code",
   "execution_count": 24,
   "id": "344b489d",
   "metadata": {},
   "outputs": [
    {
     "data": {
      "text/html": [
       "<div>\n",
       "<style scoped>\n",
       "    .dataframe tbody tr th:only-of-type {\n",
       "        vertical-align: middle;\n",
       "    }\n",
       "\n",
       "    .dataframe tbody tr th {\n",
       "        vertical-align: top;\n",
       "    }\n",
       "\n",
       "    .dataframe thead th {\n",
       "        text-align: right;\n",
       "    }\n",
       "</style>\n",
       "<table border=\"1\" class=\"dataframe\">\n",
       "  <thead>\n",
       "    <tr style=\"text-align: right;\">\n",
       "      <th></th>\n",
       "      <th>Количество детей</th>\n",
       "      <th>Количество клиентов</th>\n",
       "      <th>Доля задолженности (%)</th>\n",
       "    </tr>\n",
       "  </thead>\n",
       "  <tbody>\n",
       "    <tr>\n",
       "      <th>0</th>\n",
       "      <td>0</td>\n",
       "      <td>14091</td>\n",
       "      <td>7.54</td>\n",
       "    </tr>\n",
       "    <tr>\n",
       "      <th>1</th>\n",
       "      <td>1</td>\n",
       "      <td>4808</td>\n",
       "      <td>9.23</td>\n",
       "    </tr>\n",
       "    <tr>\n",
       "      <th>2</th>\n",
       "      <td>2-5</td>\n",
       "      <td>2432</td>\n",
       "      <td>9.25</td>\n",
       "    </tr>\n",
       "  </tbody>\n",
       "</table>\n",
       "</div>"
      ],
      "text/plain": [
       "  Количество детей  Количество клиентов  Доля задолженности (%)\n",
       "0                0                14091                    7.54\n",
       "1                1                 4808                    9.23\n",
       "2              2-5                 2432                    9.25"
      ]
     },
     "execution_count": 24,
     "metadata": {},
     "output_type": "execute_result"
    }
   ],
   "source": [
    "data['children_category'] = pd.cut(\n",
    "    data['children'], \n",
    "    bins=[-1, 0, 1, 5],  \n",
    "    labels=['0', '1', '2-5']  \n",
    ")\n",
    "\n",
    "pivot_data = data.groupby('children_category').agg(\n",
    "    total_clients=('debt', 'count'),\n",
    "    debt_ratio=('debt', 'mean')\n",
    ").reset_index()\n",
    "\n",
    "pivot_data['debt_ratio'] = (pivot_data['debt_ratio'] * 100).round(2)\n",
    "\n",
    "pivot_data.rename(columns={\n",
    "    'children_category': 'Количество детей',\n",
    "    'total_clients': 'Количество клиентов',\n",
    "    'debt_ratio': 'Доля задолженности (%)'\n",
    "}, inplace=True)\n",
    "\n",
    "pivot_data"
   ]
  },
  {
   "cell_type": "markdown",
   "id": "bf1561a3",
   "metadata": {},
   "source": [
    "<div style=\"background-color:lavender; color:#black; text-align:left; padding:2%\">\n",
    "    \n",
    "**Вывод:** Такой вариант нам дает более равномерную структуру, что с увеличением кол-ва детей в семье процент задолженности растет."
   ]
  },
  {
   "cell_type": "markdown",
   "id": "15989da3",
   "metadata": {},
   "source": [
    "<div class=\"alert alert-success\">\n",
    "\n",
    "**Артём:** 👍 Молодец."
   ]
  },
  {
   "cell_type": "markdown",
   "id": "7a2d4ec7",
   "metadata": {
    "deletable": false,
    "editable": false,
    "id": "97be82ca"
   },
   "source": [
    "#### 3.2 Есть ли зависимость между семейным положением и возвратом кредита в срок?"
   ]
  },
  {
   "cell_type": "code",
   "execution_count": 25,
   "id": "4e6a6b77",
   "metadata": {
    "deletable": false,
    "id": "dc3f7ee8"
   },
   "outputs": [
    {
     "data": {
      "text/plain": [
       "family_status\n",
       "Не женат / не замужем    0.097639\n",
       "в разводе                0.070648\n",
       "вдовец / вдова           0.066246\n",
       "гражданский брак         0.093130\n",
       "женат / замужем          0.075606\n",
       "Name: debt, dtype: float64"
      ]
     },
     "execution_count": 25,
     "metadata": {},
     "output_type": "execute_result"
    }
   ],
   "source": [
    "data.groupby('family_status')['debt'].mean()"
   ]
  },
  {
   "cell_type": "markdown",
   "id": "346736a5",
   "metadata": {
    "deletable": false,
    "id": "1cef7837"
   },
   "source": [
    "**Вывод:** \"Вдовец/вдова\" самые ответственные в выплате кредитов. Далее идут \"в разводе\" и \"женат\\замужем\", я думаю, у них есть обязательства и поэтому они более ответственные."
   ]
  },
  {
   "cell_type": "markdown",
   "id": "9c247e94",
   "metadata": {},
   "source": [
    "<div class=\"alert alert-success\">\n",
    "\n",
    "**Артём:** 👍 Правильно.\n",
    "\n",
    "</div>"
   ]
  },
  {
   "cell_type": "markdown",
   "id": "33b87370",
   "metadata": {},
   "source": [
    "<div style=\"background-color:lavender; color:#black; text-align:left; padding:2%\">\n",
    "\n",
    "Учту в следующих проектах о выводе в процентах и таблицей для большей ясности, в этих уже трогать не буду."
   ]
  },
  {
   "cell_type": "markdown",
   "id": "ea46fd4e",
   "metadata": {},
   "source": [
    "<div class=\"alert alert-success\">\n",
    "\n",
    "**Артём:** 👍 Ok."
   ]
  },
  {
   "cell_type": "markdown",
   "id": "90d62195",
   "metadata": {
    "deletable": false,
    "editable": false,
    "id": "1e8b2fca"
   },
   "source": [
    "#### 3.3 Есть ли зависимость между уровнем дохода и возвратом кредита в срок?"
   ]
  },
  {
   "cell_type": "code",
   "execution_count": 26,
   "id": "fc73d45b",
   "metadata": {
    "deletable": false,
    "id": "cd7e3720"
   },
   "outputs": [
    {
     "data": {
      "text/plain": [
       "total_income_category\n",
       "A    0.080000\n",
       "B    0.070602\n",
       "C    0.084982\n",
       "D    0.060172\n",
       "E    0.090909\n",
       "Name: debt, dtype: float64"
      ]
     },
     "execution_count": 26,
     "metadata": {},
     "output_type": "execute_result"
    }
   ],
   "source": [
    "data.groupby('total_income_category')['debt'].mean()"
   ]
  },
  {
   "cell_type": "markdown",
   "id": "adbe3e48",
   "metadata": {
    "deletable": false,
    "id": "e8593def"
   },
   "source": [
    "**Вывод:** Люди со средни доходом \"D\" более ответственны, думаю связано с тем, что им нужна хорошая кредитная история для дальнейших кредитов."
   ]
  },
  {
   "cell_type": "markdown",
   "id": "b6cee628",
   "metadata": {},
   "source": [
    "<div class=\"alert alert-success\">\n",
    "\n",
    "#### **Артём:** 👍 Дам тебе совет на будущее, как лучше проводить категоризацию количественных данных. **В этом проекте переделывать ничего не надо, так как заказчик уже предложил свои категории, его стоит проинформировать, что выборки крайне несбалансированны.** Если только как дополнительное исследование.\n",
    "    \n",
    "Сейчас самая маленькая категория в 728 раз меньше самой большой. Это может отразиться на результатах исследования. Когда мы делим на категории количественные данные, то лучше их делать примерно одинаковыми. Для этого можно воспользоваться методом `qcut()`. Пример:\n",
    "    \n",
    "```py\n",
    "pd.qcut(df['total_income'], 4)\n",
    "```\n",
    "    \n",
    "```\n",
    "Name: total_income, Length: 21453, dtype: category\n",
    "Categories (4, interval[float64]): [(20666.999, 107620.0]  (107620.0, 142594.0]  (142594.0, 195818.0]  (195818.0, 2265604.0]]\n",
    "```\n",
    "                                                                                                               \n",
    "Что внутри: \n",
    "    \n",
    "```py\n",
    "pd.qcut(датафрейм['столбец'], количество_категорий)\n",
    "``` \n",
    "    \n",
    "Итого у нас 4 категории:\n",
    "<ul>\n",
    "  <li>меньше 107_620</li>\n",
    "  <li>от 107_620 до 142_594</li>\n",
    "  <li>от 142_594 до 195_818</li>\n",
    "  <li>от 195_818</li>\n",
    "    \n",
    "Пример использования:\n",
    "```py    \n",
    "# Создаем категории дохода с помощью pd.qcut\n",
    "data['total_qcut_category'] = pd.qcut(data['total_income'], 5, labels=['A', 'B', 'C', 'D', 'E'])\n",
    "\n",
    "# Группируем данные по новому столбцу 'total_income_category'\n",
    "pivot_table = data.groupby('total_qcut_category').agg(\n",
    "    borrowers=('debt', 'size'),\n",
    "    debtors=('debt', 'sum')\n",
    ").reset_index()\n",
    "```    \n",
    "    \n",
    "</ul>"
   ]
  },
  {
   "cell_type": "markdown",
   "id": "aec6849b",
   "metadata": {
    "deletable": false,
    "editable": false,
    "id": "99ecbd1f"
   },
   "source": [
    "#### 3.4 Как разные цели кредита влияют на его возврат в срок?"
   ]
  },
  {
   "cell_type": "code",
   "execution_count": 27,
   "id": "3eaa4164",
   "metadata": {
    "deletable": false,
    "id": "2b687290"
   },
   "outputs": [
    {
     "data": {
      "text/plain": [
       "purpose_category\n",
       "операции с автомобилем      0.093480\n",
       "операции с недвижимостью    0.072551\n",
       "получение образования       0.092528\n",
       "проведение свадьбы          0.079118\n",
       "Name: debt, dtype: float64"
      ]
     },
     "execution_count": 27,
     "metadata": {},
     "output_type": "execute_result"
    }
   ],
   "source": [
    "data.groupby('purpose_category')['debt'].mean()"
   ]
  },
  {
   "cell_type": "markdown",
   "id": "067d47a2",
   "metadata": {
    "deletable": false,
    "id": "b4bb2ce6"
   },
   "source": [
    "**Вывод:** Более ответственно к выплате кредита относятся те, кто берут кредит на недвижимость, далее на свадьбу."
   ]
  },
  {
   "cell_type": "markdown",
   "id": "076e718a",
   "metadata": {},
   "source": [
    "<div class=\"alert alert-success\">\n",
    "\n",
    "**Артём:** 👍 Верно."
   ]
  },
  {
   "cell_type": "markdown",
   "id": "a126ef92",
   "metadata": {
    "deletable": false,
    "editable": false,
    "id": "09c3ac4c"
   },
   "source": [
    "#### 3.5 Приведите возможные причины появления пропусков в исходных данных."
   ]
  },
  {
   "cell_type": "markdown",
   "id": "4df2f367",
   "metadata": {
    "deletable": false,
    "id": "9da2ceda"
   },
   "source": [
    "*Ответ:* Пропуски были в значениях \"days_employed \" и \"total_income\". На то есть несколько причин. 1: Техническия сторона: ошибка при сборе данных, сбой оборудования или ПО. 2: Обработка или ввод данных: думаю здесь играет роль человеческий фактор, невнимательность или недостаток информации. 3: Данные: у многих людей может не быть официальной работы, если это пенсионер или студент, безработный у которых нет этой работы. Тоже самое и с доходом, у данной категории людей может не быть постоянного официального дохода."
   ]
  },
  {
   "cell_type": "markdown",
   "id": "e75b1cf2",
   "metadata": {},
   "source": [
    "<div class=\"alert alert-success\">\n",
    "\n",
    "**Артём:** 👍 Все верно, технический и человеческий факторы.\n",
    "\n",
    "</div>"
   ]
  },
  {
   "cell_type": "markdown",
   "id": "3f7d673a",
   "metadata": {
    "deletable": false,
    "editable": false,
    "id": "7b0487d6"
   },
   "source": [
    "#### 3.6 Объясните, почему заполнить пропуски медианным значением — лучшее решение для количественных переменных."
   ]
  },
  {
   "cell_type": "markdown",
   "id": "b78bcca2",
   "metadata": {
    "deletable": false,
    "id": "7ecf2b8e"
   },
   "source": [
    "*Ответ:* В отличие от среднего значения, медиана не чувствительна к экстремальным значениям. Если сранивать на доходах, то n-ое кол-во людей зарабатывает 50000, но есть 10-20 человек у которых доход более 1000000, то среднее значение окажется сильно искажено из-за последних. При замене пропусков медианой сохраняется структура данных, потому что медиана по сути представляет типичный элемент выборки, не нарушая общую картину распределения. "
   ]
  },
  {
   "cell_type": "markdown",
   "id": "bb785093",
   "metadata": {},
   "source": [
    "<div class=\"alert alert-success\">\n",
    "\n",
    "**Артём:** 👍 Молодец. Действительно важно учитывать, что в данных могут быть выбросы, которые могут сместить итоговый результат если использовать при заполнении данных среднее значение.\n",
    "\n",
    "</div>"
   ]
  },
  {
   "cell_type": "markdown",
   "id": "a73d2b72",
   "metadata": {
    "deletable": false,
    "editable": false,
    "id": "6db5255a"
   },
   "source": [
    "### Шаг 4: общий вывод."
   ]
  },
  {
   "cell_type": "markdown",
   "id": "56a827c2",
   "metadata": {
    "deletable": false,
    "id": "bad65432"
   },
   "source": [
    "**Вывод:** Молодые семьи (без детей), которые берут кредит на недвижимость являются идеальными клиентами."
   ]
  },
  {
   "cell_type": "markdown",
   "id": "78d0b60c",
   "metadata": {},
   "source": [
    "<div class=\"alert alert-success\">\n",
    "\n",
    "**Артём:**  Промежуточные выводы будет смотреть старший аналитик, а заказчик будет читать финальный вывод и только его. Добавь информации о полученных результатах по каждому из четырех вопросов, разбей по пунктам, сделай красиво, чтобы было понятно, что проведено настоящее исследование и выводу можно верить. Например, какие именно категории имеют наибольший процент невозврата кредитов, и почему? Учитывай для кого проведено исследование, в банковской сфере даже сотые доли процента играют роль, но в нашем можно ограничиться десятыми. Помни, вывод – это лицо дата специалиста. 😉\n",
    "\n",
    "</div>"
   ]
  },
  {
   "cell_type": "markdown",
   "id": "d3981320",
   "metadata": {},
   "source": [
    "<div style=\"background-color:lavender; color:#black; text-align:left; padding:2%\">\n",
    "\n",
    "**Общий вывод:**\n",
    "    \n",
    "Анализ показал, что разные факторы влияют на вероятность возврата кредита в срок.\n",
    "\n",
    "**Количество детей:** Бездетные клиенты ответственнее остальных, а с увеличением числа детей вероятность задолженности растет. Категории с 3 и более детьми нерепрезентативны, поэтому было решено объединение для более равномерного анализа.\n",
    "\n",
    "**Семейное положение:** Самыми ответственными оказались вдовцы/вдовы, а наименее – не состоящие в браке. Это может быть связано с финансовыми обязательствами в семьях.\n",
    "\n",
    "**Уровень дохода:** Клиенты с доходами в категории D оказались наиболее надежными, возможно, из-за желания сохранить хорошую кредитную историю.\n",
    "\n",
    "**Цели кредита:** Наиболее ответственно кредиты выплачивают те, кто берут их на операции с недвижимостью. Кредиты на образование и автомобиль чаще сопровождаются задолженностью.\n",
    "    \n",
    "**Итог:**\n",
    "Возврат кредита в срок зависит от социальных факторов и целей займа. Наиболее надежными заемщиками оказались клиенты без детей, в семейных отношениях и с целью покупки недвижимости."
   ]
  },
  {
   "cell_type": "markdown",
   "id": "c33207c6",
   "metadata": {},
   "source": [
    "<div class=\"alert alert-success\">\n",
    "\n",
    "**Артём:** 👍 Хороший вывод. Аккуратно, последовательно приятно читать.\n",
    "\n",
    "</div>"
   ]
  },
  {
   "cell_type": "markdown",
   "id": "9fca4c5b",
   "metadata": {},
   "source": [
    "## 🏁 Итоги ревью\n",
    "<a id=\"results\"></a>\n",
    "[В начало](#start)\n",
    "\n",
    "\n",
    "<div class=\"alert alert-danger\">\n",
    "\n",
    "**Артём:** ❌ Maxim, спасибо за работу. Осталось исправить всего несколько комментариев и можно идти к заказчику. Молодец! 👍\n",
    "    \n",
    "Для удобства, комментарии которые нужно скорректировать я добавил в меню **Contents** слева.\n",
    "    \n",
    "Жду новую версию проекта. 🙂\n",
    "\n",
    "</div>"
   ]
  },
  {
   "cell_type": "markdown",
   "id": "20dadb56",
   "metadata": {},
   "source": [
    "<img src=\"https://s19536.pcdn.co/wp-content/uploads/2020/06/Web-Great-Job.jpg\"> \n",
    "<div class=\"alert alert-success\">   \n",
    "\n",
    "#### **Артём:** ✌️   Максим, спасибо за работу, твои комментарии и внесенные корректировки! Критических замечаний нет.\n",
    "    \n",
    "\n",
    "Поздравляю, **проект принят!** 🥳 🎉 Ты молодец!\n",
    "\n",
    "Желаю тебе успехов в дальнейшем обучении. 😉\n",
    "    \n",
    "---\n",
    "    \n",
    "## 📖 **Полезные ссылки**\n",
    "\n",
    "* [Работа в Яндексе](https://yandex.ru/jobs/pages/analytics_interview?ysclid=l84s63fs1g790141490)\n",
    "* [Настройте свой Jupyter Notebook правильно](https://medium.com/nuances-of-programming/настройте-свой-jupyter-notebook-правильно-faef14c89434)    \n",
    "* [Краткое руководство по Маркдауну](https://paulradzkov.com/2014/markdown_cheatsheet/?)\n",
    "* [PEP 8 – Style Guide for Python Code](https://www.python.org/dev/peps/pep-0008/)    \n",
    "* [Обработка пропусков в данных](https://loginom.ru/blog/missing)  \n",
    "* [Разделение данных с помощью qcut и cut в Pandas](https://dfedorov.spb.ru/pandas/Разделение%20данных%20в%20Pandas%20с%20помощью%20qcut%20и%20cut.html?)  \n",
    "* [Официальная документаци метода qcut](https://pandas.pydata.org/pandas-docs/stable/reference/api/pandas.qcut.html)  \n",
    "* [Подробное руководство по группировке и агрегированию с помощью pandas](https://dfedorov.spb.ru/pandas/Подробное%20руководство%20по%20группировке%20и%20агрегированию%20с%20помощью%20pandas.html?ysclid=lcmm6rtg2w602526506)\n",
    "* [Проверка статистических гипотез. (21 мая 2020 г.)](https://allatambov.github.io/psms/pdf/hypo-test.pdf)    \n",
    "* [Шпаргалка по визуализации данных в Python с помощью Plotly](https://habr.com/ru/articles/502958/) \n",
    "* [Тест гигиены визуализации данных](https://bar-or-pie.dianov.org)    \n",
    "* [Задачки SQL](https://habr.com/ru/company/dcmiran/blog/500360/)    \n",
    "* [7 cайтов для оттачивания навыка написания SQL запросов на 2020 год](https://techrocks.ru/2019/11/22/7-sites-to-perfect-sql-query-writing-skills/)\n",
    "* [Главред помогает очистить текст от словесного мусора, проверяет на соответствие информационному стилю.](https://glvrd.ru)\n",
    "\n",
    "</div>    "
   ]
  },
  {
   "cell_type": "code",
   "execution_count": null,
   "id": "1843e41a",
   "metadata": {},
   "outputs": [],
   "source": []
  }
 ],
 "metadata": {
  "ExecuteTimeLog": [
   {
    "duration": 770,
    "start_time": "2024-11-24T10:23:13.240Z"
   },
   {
    "duration": 39,
    "start_time": "2024-11-24T10:23:14.013Z"
   },
   {
    "duration": 20,
    "start_time": "2024-11-24T10:23:14.054Z"
   },
   {
    "duration": 30,
    "start_time": "2024-11-24T10:23:14.077Z"
   },
   {
    "duration": 64,
    "start_time": "2024-11-24T10:23:14.110Z"
   },
   {
    "duration": 22,
    "start_time": "2024-11-24T10:23:14.176Z"
   },
   {
    "duration": 12,
    "start_time": "2024-11-24T10:23:14.201Z"
   },
   {
    "duration": 5,
    "start_time": "2024-11-24T10:23:14.215Z"
   },
   {
    "duration": 11,
    "start_time": "2024-11-24T10:23:14.221Z"
   },
   {
    "duration": 6,
    "start_time": "2024-11-24T10:23:14.237Z"
   },
   {
    "duration": 112,
    "start_time": "2024-11-24T10:23:14.245Z"
   },
   {
    "duration": 12,
    "start_time": "2024-11-24T10:23:14.358Z"
   },
   {
    "duration": 14,
    "start_time": "2024-11-24T10:23:14.372Z"
   },
   {
    "duration": 27,
    "start_time": "2024-11-24T10:23:14.387Z"
   },
   {
    "duration": 41,
    "start_time": "2024-11-24T10:23:14.416Z"
   },
   {
    "duration": 18,
    "start_time": "2024-11-24T10:23:14.459Z"
   },
   {
    "duration": 3,
    "start_time": "2024-11-24T10:23:14.479Z"
   },
   {
    "duration": 34,
    "start_time": "2024-11-24T10:23:14.484Z"
   },
   {
    "duration": 7,
    "start_time": "2024-11-24T10:23:14.519Z"
   },
   {
    "duration": 3,
    "start_time": "2024-11-24T10:23:14.528Z"
   },
   {
    "duration": 13,
    "start_time": "2024-11-24T10:23:14.533Z"
   },
   {
    "duration": 2,
    "start_time": "2024-11-24T10:23:14.548Z"
   },
   {
    "duration": 3,
    "start_time": "2024-11-24T10:23:14.551Z"
   },
   {
    "duration": 5,
    "start_time": "2024-11-24T10:23:14.555Z"
   },
   {
    "duration": 3,
    "start_time": "2024-11-24T10:23:14.561Z"
   },
   {
    "duration": 7,
    "start_time": "2024-11-24T10:23:55.875Z"
   },
   {
    "duration": 5,
    "start_time": "2024-11-24T10:24:36.448Z"
   },
   {
    "duration": 8,
    "start_time": "2024-11-24T10:27:20.947Z"
   },
   {
    "duration": 8,
    "start_time": "2024-11-24T10:27:48.090Z"
   },
   {
    "duration": 10,
    "start_time": "2024-11-24T10:27:54.113Z"
   },
   {
    "duration": 7,
    "start_time": "2024-11-24T10:30:33.547Z"
   },
   {
    "duration": 8,
    "start_time": "2024-11-24T10:37:43.467Z"
   },
   {
    "duration": 12,
    "start_time": "2024-11-24T10:40:34.811Z"
   },
   {
    "duration": 13,
    "start_time": "2024-11-24T10:41:45.295Z"
   },
   {
    "duration": 17,
    "start_time": "2024-11-24T10:44:22.638Z"
   },
   {
    "duration": 72,
    "start_time": "2024-11-24T10:44:44.832Z"
   },
   {
    "duration": 9,
    "start_time": "2024-11-24T10:44:58.384Z"
   },
   {
    "duration": 582,
    "start_time": "2024-11-24T12:41:19.280Z"
   },
   {
    "duration": 32,
    "start_time": "2024-11-24T12:41:19.864Z"
   },
   {
    "duration": 15,
    "start_time": "2024-11-24T12:41:19.898Z"
   },
   {
    "duration": 10,
    "start_time": "2024-11-24T12:41:19.915Z"
   },
   {
    "duration": 35,
    "start_time": "2024-11-24T12:41:19.927Z"
   },
   {
    "duration": 3,
    "start_time": "2024-11-24T12:41:19.964Z"
   },
   {
    "duration": 36,
    "start_time": "2024-11-24T12:41:19.969Z"
   },
   {
    "duration": 11,
    "start_time": "2024-11-24T12:41:20.007Z"
   },
   {
    "duration": 15,
    "start_time": "2024-11-24T12:41:20.020Z"
   },
   {
    "duration": 17,
    "start_time": "2024-11-24T12:41:20.038Z"
   },
   {
    "duration": 57,
    "start_time": "2024-11-24T12:41:20.056Z"
   },
   {
    "duration": 10,
    "start_time": "2024-11-24T12:41:20.115Z"
   },
   {
    "duration": 27,
    "start_time": "2024-11-24T12:41:20.126Z"
   },
   {
    "duration": 37,
    "start_time": "2024-11-24T12:41:20.155Z"
   },
   {
    "duration": 42,
    "start_time": "2024-11-24T12:41:20.194Z"
   },
   {
    "duration": 24,
    "start_time": "2024-11-24T12:41:20.238Z"
   },
   {
    "duration": 5,
    "start_time": "2024-11-24T12:41:20.264Z"
   },
   {
    "duration": 26,
    "start_time": "2024-11-24T12:41:20.270Z"
   },
   {
    "duration": 7,
    "start_time": "2024-11-24T12:41:20.298Z"
   },
   {
    "duration": 6,
    "start_time": "2024-11-24T12:41:20.306Z"
   },
   {
    "duration": 34,
    "start_time": "2024-11-24T12:41:20.313Z"
   },
   {
    "duration": 8,
    "start_time": "2024-11-24T12:41:20.349Z"
   },
   {
    "duration": 16,
    "start_time": "2024-11-24T12:41:20.359Z"
   },
   {
    "duration": 6,
    "start_time": "2024-11-24T12:41:20.377Z"
   },
   {
    "duration": 7,
    "start_time": "2024-11-24T12:41:20.384Z"
   },
   {
    "duration": 68,
    "start_time": "2024-11-25T14:51:44.848Z"
   },
   {
    "duration": 50,
    "start_time": "2024-11-25T14:51:56.855Z"
   },
   {
    "duration": 51,
    "start_time": "2024-11-25T14:52:19.937Z"
   },
   {
    "duration": 650,
    "start_time": "2024-11-25T14:54:40.370Z"
   },
   {
    "duration": 20,
    "start_time": "2024-11-25T14:54:41.022Z"
   },
   {
    "duration": 16,
    "start_time": "2024-11-25T14:54:41.044Z"
   },
   {
    "duration": 11,
    "start_time": "2024-11-25T14:54:41.062Z"
   },
   {
    "duration": 55,
    "start_time": "2024-11-25T14:54:41.074Z"
   },
   {
    "duration": 3,
    "start_time": "2024-11-25T14:54:41.130Z"
   },
   {
    "duration": 26,
    "start_time": "2024-11-25T14:54:41.135Z"
   },
   {
    "duration": 9,
    "start_time": "2024-11-25T14:54:41.162Z"
   },
   {
    "duration": 7,
    "start_time": "2024-11-25T14:54:41.172Z"
   },
   {
    "duration": 3,
    "start_time": "2024-11-25T14:54:41.182Z"
   },
   {
    "duration": 41,
    "start_time": "2024-11-25T14:54:41.187Z"
   },
   {
    "duration": 10,
    "start_time": "2024-11-25T14:54:41.230Z"
   },
   {
    "duration": 19,
    "start_time": "2024-11-25T14:54:41.241Z"
   },
   {
    "duration": 12,
    "start_time": "2024-11-25T14:54:41.261Z"
   },
   {
    "duration": 22,
    "start_time": "2024-11-25T14:54:41.275Z"
   },
   {
    "duration": 24,
    "start_time": "2024-11-25T14:54:41.298Z"
   },
   {
    "duration": 4,
    "start_time": "2024-11-25T14:54:41.323Z"
   },
   {
    "duration": 20,
    "start_time": "2024-11-25T14:54:41.328Z"
   },
   {
    "duration": 5,
    "start_time": "2024-11-25T14:54:41.349Z"
   },
   {
    "duration": 3,
    "start_time": "2024-11-25T14:54:41.356Z"
   },
   {
    "duration": 15,
    "start_time": "2024-11-25T14:54:41.360Z"
   },
   {
    "duration": 6,
    "start_time": "2024-11-25T14:54:41.376Z"
   },
   {
    "duration": 7,
    "start_time": "2024-11-25T14:54:41.383Z"
   },
   {
    "duration": 7,
    "start_time": "2024-11-25T14:54:41.391Z"
   },
   {
    "duration": 27,
    "start_time": "2024-11-25T14:54:41.399Z"
   },
   {
    "duration": 63,
    "start_time": "2024-11-25T14:57:10.802Z"
   },
   {
    "duration": 7,
    "start_time": "2024-11-25T14:57:38.678Z"
   },
   {
    "duration": 7,
    "start_time": "2024-11-25T14:58:56.237Z"
   },
   {
    "duration": 10,
    "start_time": "2024-11-25T15:01:14.501Z"
   },
   {
    "duration": 10,
    "start_time": "2024-11-25T15:01:29.793Z"
   },
   {
    "duration": 12,
    "start_time": "2024-11-25T15:01:43.407Z"
   },
   {
    "duration": 17,
    "start_time": "2024-11-25T15:02:26.059Z"
   },
   {
    "duration": 19,
    "start_time": "2024-11-25T15:11:23.872Z"
   },
   {
    "duration": 19,
    "start_time": "2024-11-25T15:11:37.386Z"
   },
   {
    "duration": 21,
    "start_time": "2024-11-25T15:14:12.428Z"
   },
   {
    "duration": 18,
    "start_time": "2024-11-25T15:14:26.081Z"
   },
   {
    "duration": 20,
    "start_time": "2024-11-25T15:21:22.104Z"
   },
   {
    "duration": 52,
    "start_time": "2024-11-25T15:22:51.240Z"
   },
   {
    "duration": 69,
    "start_time": "2024-11-25T15:27:02.491Z"
   },
   {
    "duration": 52,
    "start_time": "2024-11-25T15:27:22.301Z"
   },
   {
    "duration": 522,
    "start_time": "2024-11-25T20:40:31.587Z"
   },
   {
    "duration": 23,
    "start_time": "2024-11-25T20:40:32.111Z"
   },
   {
    "duration": 17,
    "start_time": "2024-11-25T20:40:32.139Z"
   },
   {
    "duration": 12,
    "start_time": "2024-11-25T20:40:32.158Z"
   },
   {
    "duration": 62,
    "start_time": "2024-11-25T20:40:32.171Z"
   },
   {
    "duration": 4,
    "start_time": "2024-11-25T20:40:32.235Z"
   },
   {
    "duration": 9,
    "start_time": "2024-11-25T20:40:32.240Z"
   },
   {
    "duration": 9,
    "start_time": "2024-11-25T20:40:32.251Z"
   },
   {
    "duration": 7,
    "start_time": "2024-11-25T20:40:32.262Z"
   },
   {
    "duration": 6,
    "start_time": "2024-11-25T20:40:32.271Z"
   },
   {
    "duration": 60,
    "start_time": "2024-11-25T20:40:32.278Z"
   },
   {
    "duration": 11,
    "start_time": "2024-11-25T20:40:32.340Z"
   },
   {
    "duration": 39,
    "start_time": "2024-11-25T20:40:32.353Z"
   },
   {
    "duration": 34,
    "start_time": "2024-11-25T20:40:32.394Z"
   },
   {
    "duration": 21,
    "start_time": "2024-11-25T20:40:32.430Z"
   },
   {
    "duration": 18,
    "start_time": "2024-11-25T20:40:32.452Z"
   },
   {
    "duration": 3,
    "start_time": "2024-11-25T20:40:32.472Z"
   },
   {
    "duration": 17,
    "start_time": "2024-11-25T20:40:32.477Z"
   },
   {
    "duration": 29,
    "start_time": "2024-11-25T20:40:32.496Z"
   },
   {
    "duration": 18,
    "start_time": "2024-11-25T20:40:32.527Z"
   },
   {
    "duration": 17,
    "start_time": "2024-11-25T20:40:32.546Z"
   },
   {
    "duration": 7,
    "start_time": "2024-11-25T20:40:32.565Z"
   },
   {
    "duration": 31,
    "start_time": "2024-11-25T20:40:32.574Z"
   },
   {
    "duration": 18,
    "start_time": "2024-11-25T20:40:32.607Z"
   },
   {
    "duration": 7,
    "start_time": "2024-11-25T20:40:32.626Z"
   },
   {
    "duration": 29,
    "start_time": "2024-11-25T20:40:32.635Z"
   },
   {
    "duration": 8,
    "start_time": "2024-11-25T20:40:32.665Z"
   }
  ],
  "colab": {
   "name": "dpp_template_part2.ipynb",
   "provenance": []
  },
  "kernelspec": {
   "display_name": "Python 3 (ipykernel)",
   "language": "python",
   "name": "python3"
  },
  "language_info": {
   "codemirror_mode": {
    "name": "ipython",
    "version": 3
   },
   "file_extension": ".py",
   "mimetype": "text/x-python",
   "name": "python",
   "nbconvert_exporter": "python",
   "pygments_lexer": "ipython3",
   "version": "3.9.5"
  },
  "toc": {
   "base_numbering": 1,
   "nav_menu": {},
   "number_sections": true,
   "sideBar": true,
   "skip_h1_title": true,
   "title_cell": "Table of Contents",
   "title_sidebar": "Contents",
   "toc_cell": false,
   "toc_position": {
    "height": "calc(100% - 180px)",
    "left": "10px",
    "top": "150px",
    "width": "402.352936px"
   },
   "toc_section_display": true,
   "toc_window_display": true
  }
 },
 "nbformat": 4,
 "nbformat_minor": 5
}
